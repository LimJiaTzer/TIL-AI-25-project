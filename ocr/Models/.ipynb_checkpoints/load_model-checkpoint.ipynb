{
 "cells": [
  {
   "cell_type": "code",
   "execution_count": null,
   "id": "b4219745-bb4e-4706-9c66-127cc5b33e0c",
   "metadata": {
    "tags": []
   },
   "outputs": [],
   "source": [
    "from transformers import PreTrainedTokenizerFast, ViTFeatureExtractor, VisionEncoderDecoderModel\n",
    "\n",
    "tokenizer = PreTrainedTokenizerFast.from_pretrained(\"stepfun-ai/GOT-OCR-2.0-hf\")\n",
    "feature_extractor = ViTFeatureExtractor.from_pretrained(\"stepfun-ai/GOT-OCR-2.0-hf\")\n",
    "model = VisionEncoderDecoderModel.from_pretrained(\"stepfun-ai/GOT-OCR-2.0-hf\")"
   ]
  },
  {
   "cell_type": "code",
   "execution_count": null,
   "id": "f18fe087-046e-469c-a58a-5689db2f757c",
   "metadata": {},
   "outputs": [],
   "source": []
  }
 ],
 "metadata": {
  "environment": {
   "kernel": "conda-base-py",
   "name": "workbench-notebooks.m129",
   "type": "gcloud",
   "uri": "us-docker.pkg.dev/deeplearning-platform-release/gcr.io/workbench-notebooks:m129"
  },
  "kernelspec": {
   "display_name": "Python 3 (ipykernel)",
   "language": "python",
   "name": "conda-base-py"
  },
  "language_info": {
   "codemirror_mode": {
    "name": "ipython",
    "version": 3
   },
   "file_extension": ".py",
   "mimetype": "text/x-python",
   "name": "python",
   "nbconvert_exporter": "python",
   "pygments_lexer": "ipython3",
   "version": "3.10.16"
  }
 },
 "nbformat": 4,
 "nbformat_minor": 5
}
